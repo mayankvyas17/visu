{
 "cells": [
  {
   "cell_type": "markdown",
   "id": "44f568ec",
   "metadata": {},
   "source": [
    "Seaborn is a powerful Python data visualization library built on top of Matplotlib. It provides a high-level interface for creating aesthetically pleasing statistical graphics. Here are five commonly used plots that can be created using Seaborn along with their uses:\n",
    "\n",
    "Scatter Plot (sns.scatterplot()):\n",
    "Use: Scatter plots are used to visualize the relationship between two continuous variables. They can help identify patterns, clusters, or correlations in the data.\n",
    "Line Plot (sns.lineplot()):\n",
    "Use: Line plots are used to show the trend or relationship between two continuous variables over time or any ordered variable. They can display how the values change or progress.\n",
    "Bar Plot (sns.barplot()):\n",
    "Use: Bar plots are used to compare the values of different categories. They display the distribution or relationship between categorical data by representing each category with rectangular bars. They help in understanding differences or similarities between categories.\n",
    "Histogram (sns.histplot()):\n",
    "Use: Histograms are used to visualize the distribution of a continuous variable by dividing the data into bins and showing the frequency or count of values falling into each bin. They provide insights into the underlying data distribution and help identify patterns or outliers.\n",
    "Heatmap (sns.heatmap()):\n",
    "Use: Heatmaps are used to represent the matrix or tabular data using color gradients. They are often used to visualize correlations between variables in a dataset or to highlight patterns or clusters in the data.\n",
    "These are just a few examples of the plots that can be created using Seaborn. Seaborn offers a wide range of other plot types and customization options to cater to various visualization needs in data analysis and exploration."
   ]
  },
  {
   "cell_type": "code",
   "execution_count": null,
   "id": "8c0fd150",
   "metadata": {},
   "outputs": [],
   "source": [
    "import seaborn as sns\n",
    "\n",
    "# Load the \"fmri\" dataset\n",
    "df = sns.load_dataset(\"fmri\")\n",
    "\n",
    "# Plot line plot for different events and regions\n",
    "sns.lineplot(data=df, x=\"timepoint\", y=\"signal\", hue=\"event\", style=\"region\")\n",
    "\n",
    "# Set plot title and labels\n",
    "plt.title(\"FMRI Signal over Time\")\n",
    "plt.xlabel(\"Timepoint\")\n",
    "plt.ylabel(\"Signal\")\n",
    "\n",
    "# Show the plot\n",
    "plt.show()\n"
   ]
  },
  {
   "cell_type": "code",
   "execution_count": null,
   "id": "bd109740",
   "metadata": {},
   "outputs": [],
   "source": [
    "import seaborn as sns\n",
    "import matplotlib.pyplot as plt\n",
    "\n",
    "# Load the \"titanic\" dataset\n",
    "df = sns.load_dataset(\"titanic\")\n",
    "\n",
    "# Plot box plot for age based on pclass\n",
    "plt.figure(figsize=(8, 6))\n",
    "sns.boxplot(data=df, x=\"pclass\", y=\"age\")\n",
    "plt.title(\"Age Distribution by Passenger Class\")\n",
    "plt.xlabel(\"Passenger Class\")\n",
    "plt.ylabel(\"Age\")\n",
    "plt.show()\n",
    "\n",
    "# Plot box plot for fare based on pclass\n",
    "plt.figure(figsize=(8, 6))\n",
    "sns.boxplot(data=df, x=\"pclass\", y=\"fare\")\n",
    "plt.title(\"Fare Distribution by Passenger Class\")\n",
    "plt.xlabel(\"Passenger Class\")\n",
    "plt.ylabel(\"Fare\")\n",
    "plt.show()\n"
   ]
  },
  {
   "cell_type": "code",
   "execution_count": null,
   "id": "8954d96f",
   "metadata": {},
   "outputs": [],
   "source": [
    "import seaborn as sns\n",
    "import matplotlib.pyplot as plt\n",
    "\n",
    "# Load the \"diamonds\" dataset\n",
    "df = sns.load_dataset(\"diamonds\")\n",
    "\n",
    "# Plot histogram with hue for the 'cut' column\n",
    "sns.histplot(data=df, x='price', hue='cut', kde=True)\n",
    "\n",
    "# Set plot title and labels\n",
    "plt.title(\"Price Distribution by Cut\")\n",
    "plt.xlabel(\"Price\")\n",
    "plt.ylabel(\"Count\")\n",
    "\n",
    "# Show the plot\n",
    "plt.show()\n"
   ]
  },
  {
   "cell_type": "code",
   "execution_count": null,
   "id": "c3be3c80",
   "metadata": {},
   "outputs": [],
   "source": [
    "import seaborn as sns\n",
    "\n",
    "# Load the \"iris\" dataset\n",
    "df = sns.load_dataset(\"iris\")\n",
    "\n",
    "# Plot pair plot with hue for the 'species' column\n",
    "sns.pairplot(data=df, hue='species')\n",
    "\n",
    "# Show the plot\n",
    "plt.show()\n"
   ]
  },
  {
   "cell_type": "code",
   "execution_count": null,
   "id": "3b126c52",
   "metadata": {},
   "outputs": [],
   "source": [
    "import seaborn as sns\n",
    "import matplotlib.pyplot as plt\n",
    "\n",
    "# Load the \"flights\" dataset\n",
    "df = sns.load_dataset(\"flights\")\n",
    "flights_df = df.pivot(\"month\", \"year\", \"passengers\")\n",
    "\n",
    "# Plot heatmap\n",
    "plt.figure(figsize=(10, 8))\n",
    "sns.heatmap(flights_df, cmap=\"YlGnBu\", annot=True, fmt=\"d\", cbar=True)\n",
    "\n",
    "# Set plot title and labels\n",
    "plt.title(\"Number of Passengers by Year and Month\")\n",
    "plt.xlabel(\"Year\")\n",
    "plt.ylabel(\"Month\")\n",
    "\n",
    "# Show the plot\n",
    "plt.show()\n"
   ]
  },
  {
   "cell_type": "code",
   "execution_count": null,
   "id": "a9ab4520",
   "metadata": {},
   "outputs": [],
   "source": []
  }
 ],
 "metadata": {
  "kernelspec": {
   "display_name": "Python 3 (ipykernel)",
   "language": "python",
   "name": "python3"
  },
  "language_info": {
   "codemirror_mode": {
    "name": "ipython",
    "version": 3
   },
   "file_extension": ".py",
   "mimetype": "text/x-python",
   "name": "python",
   "nbconvert_exporter": "python",
   "pygments_lexer": "ipython3",
   "version": "3.9.13"
  }
 },
 "nbformat": 4,
 "nbformat_minor": 5
}
