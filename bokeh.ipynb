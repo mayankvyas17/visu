{
 "cells": [
  {
   "cell_type": "code",
   "execution_count": 1,
   "id": "143105a2",
   "metadata": {},
   "outputs": [],
   "source": [
    "from bokeh.plotting import figure, show\n",
    "\n",
    "# Create a new figure\n",
    "p = figure(title=\"My Bokeh Plot\", x_axis_label=\"X-axis\", y_axis_label=\"Y-axis\")\n",
    "\n",
    "# Add glyphs to the figure\n",
    "p.circle([1, 2, 3, 4, 5], [6, 7, 2, 4, 5], size=12, color=\"red\")\n",
    "\n",
    "# Display the plot\n",
    "show(p)\n"
   ]
  },
  {
   "cell_type": "code",
   "execution_count": 2,
   "id": "5cf068d7",
   "metadata": {},
   "outputs": [],
   "source": [
    "from bokeh.plotting import figure, show\n",
    "\n",
    "# Create a new figure\n",
    "p = figure()\n",
    "\n",
    "# Add circle glyphs\n",
    "p.circle(x=[1, 2, 3, 4, 5], y=[6, 7, 2, 4, 5], size=12, color=\"blue\")\n",
    "\n",
    "# Add line glyphs\n",
    "p.line(x=[1, 2, 3, 4, 5], y=[6, 7, 2, 4, 5], line_width=2, color=\"red\")\n",
    "\n",
    "# Display the plot\n",
    "show(p)\n"
   ]
  },
  {
   "cell_type": "markdown",
   "id": "41218702",
   "metadata": {},
   "source": [
    "Axes: You can modify the axes by accessing the axis attributes of the figure object (p in the examples above). For example, to set the x-axis label, you can use p.xaxis.axis_label = \"X-axis\". Other attributes include axis_label_text_font_size, axis_label_text_color, major_label_text_font_size, and more.\n",
    "Title: The title of the plot can be set using the title attribute of the figure object. For example, p.title.text = \"My Bokeh Plot\". Additional title properties include text_font_size, text_color, align, and others.\n",
    "Legend: To add a legend to your plot, you can use the legend attribute of the figure object. For example, p.legend.title = \"Categories\" sets the legend title, and p.legend.location = \"top_right\" determines the legend's position. You can also customize the legend's font size, color, orientation, and other properties.\n",
    "Colors: Bokeh provides various ways to specify colors, including using named colors, RGB values, hexadecimal codes, or color palettes. You can set the color of glyphs, lines, and other plot elements by passing the appropriate color values as arguments.\n",
    "These are just a few examples of the many customization options available in Bokeh. You can refer to the Bokeh documentation for a comprehensive list of customization attributes and their usage.\n"
   ]
  },
  {
   "cell_type": "markdown",
   "id": "8e3ed035",
   "metadata": {},
   "source": [
    "Create a Bokeh application: Define a function or class that creates and configures the interactive plot or application. This function or class should have a doc parameter that represents the current state of the document.\n",
    "Add interactive elements: Inside the application function or class, you can add interactive elements such as sliders, buttons, dropdown menus, etc., that update the plot based on user input or other events. You can use the Bokeh models and tools to create these interactive elements.\n",
    "Define update callbacks: If you have interactive elements that trigger updates to the plot, you can define callback functions or methods that are executed when the elements change. These callbacks modify the plot's data or properties and update the document accordingly.\n",
    "Run the Bokeh server: To start the Bokeh server and run your application, you use the bokeh serve command-line tool, specifying the file or directory containing your application code. For example, bokeh serve myapp.py or bokeh serve myapp_directory/.\n",
    "The Bokeh server then launches a web server that hosts your application and makes it accessible through a web browser. Any changes made to the plot or application are automatically synchronized and reflected in the browser in real time.\n",
    "\n"
   ]
  },
  {
   "cell_type": "markdown",
   "id": "04431ae7",
   "metadata": {},
   "source": [
    "import the necessary modules: In your Flask application, import the required modules, including flask and bokeh. Additionally, import the specific Bokeh components you need, such as figure and components.\n",
    "Create a route: Define a route in your Flask application that corresponds to the web page where you want to display the"
   ]
  }
 ],
 "metadata": {
  "kernelspec": {
   "display_name": "Python 3 (ipykernel)",
   "language": "python",
   "name": "python3"
  },
  "language_info": {
   "codemirror_mode": {
    "name": "ipython",
    "version": 3
   },
   "file_extension": ".py",
   "mimetype": "text/x-python",
   "name": "python",
   "nbconvert_exporter": "python",
   "pygments_lexer": "ipython3",
   "version": "3.9.13"
  }
 },
 "nbformat": 4,
 "nbformat_minor": 5
}
